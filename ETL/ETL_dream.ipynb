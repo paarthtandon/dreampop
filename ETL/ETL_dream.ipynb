{
 "cells": [
  {
   "cell_type": "markdown",
   "source": [
    "# Imports/Setup"
   ],
   "metadata": {}
  },
  {
   "cell_type": "code",
   "execution_count": 1,
   "source": [
    "import spotipy\r\n",
    "from spotipy.oauth2 import SpotifyClientCredentials\r\n",
    "import pandas as pd\r\n",
    "from IPython.display import clear_output\r\n",
    "from sqlalchemy import create_engine\r\n",
    "from dotenv import load_dotenv\r\n",
    "import os\r\n",
    "\r\n",
    "%matplotlib inline\r\n",
    "load_dotenv()\r\n",
    "\r\n",
    "sp = spotipy.Spotify(auth_manager=SpotifyClientCredentials(client_id=\"a6babb9c2f9c4878a49171de0e1c193e\", client_secret=\"bbfb1d4aff7b4b5aba86acfd382125f3\"))"
   ],
   "outputs": [],
   "metadata": {}
  },
  {
   "cell_type": "markdown",
   "source": [
    "# Download Data"
   ],
   "metadata": {}
  },
  {
   "cell_type": "markdown",
   "source": [
    "## Get Playlists"
   ],
   "metadata": {}
  },
  {
   "cell_type": "code",
   "execution_count": 2,
   "source": [
    "total = 50\r\n",
    "limit = 50\r\n",
    "offset = 0\r\n",
    "\r\n",
    "playlist_ids = []\r\n",
    "while len(playlist_ids) < total:\r\n",
    "    lists = sp.search(q='dream pop', type='playlist', limit=limit, offset=offset)['playlists']['items']\r\n",
    "    for playlist in lists:\r\n",
    "        playlist_ids.append(playlist['id'])\r\n",
    "    offset += 50\r\n",
    "playlist_ids = playlist_ids[:100]\r\n",
    "print('Playlists:', len(playlist_ids))"
   ],
   "outputs": [
    {
     "output_type": "stream",
     "name": "stdout",
     "text": [
      "Playlists: 50\n"
     ]
    }
   ],
   "metadata": {}
  },
  {
   "cell_type": "markdown",
   "source": [
    "## Get Tracks"
   ],
   "metadata": {}
  },
  {
   "cell_type": "code",
   "execution_count": 3,
   "source": [
    "def get_track_names_ids(playlist):\r\n",
    "    all_tracks = []\r\n",
    "    for off in range(0, 3001, 100):\r\n",
    "        tracks = sp.playlist_tracks(playlist, limit=100, offset=off)['items']\r\n",
    "        for track in tracks:\r\n",
    "            if track['track'] is not None:\r\n",
    "                all_tracks.append((track['track']['id'], track['track']['name'], track['track']['artists'][0]['name'], 'dreampop'))\r\n",
    "    return all_tracks\r\n",
    "\r\n",
    "track_data = []\r\n",
    "for i, playlist in enumerate(playlist_ids):\r\n",
    "    clear_output(wait=True)\r\n",
    "    print(\"Processing playlist:\", i)\r\n",
    "    for id, name, artist, genre in get_track_names_ids(playlist):\r\n",
    "        track_data.append((id, name, artist, genre))\r\n",
    "clear_output(wait=True)\r\n",
    "\r\n",
    "track_dict = {}\r\n",
    "for track in track_data:\r\n",
    "    if track not in track_dict:\r\n",
    "        track_dict[track] = 0\r\n",
    "    track_dict[track] += 1\r\n",
    "\r\n",
    "print('Tracks:', len(list(track_dict.items())))"
   ],
   "outputs": [
    {
     "output_type": "stream",
     "name": "stdout",
     "text": [
      "Processing playlist: 46\n"
     ]
    }
   ],
   "metadata": {}
  },
  {
   "cell_type": "code",
   "execution_count": null,
   "source": [
    "top_tracks = sorted(list(track_dict.items()), key=lambda x: x[1], reverse=True)\r\n",
    "track_data = [track[0] for track in top_tracks]\r\n",
    "print('Top:', track_data[:10])"
   ],
   "outputs": [],
   "metadata": {}
  },
  {
   "cell_type": "markdown",
   "source": [
    "## Get Audio Features"
   ],
   "metadata": {}
  },
  {
   "cell_type": "code",
   "execution_count": null,
   "source": [
    "def chunks(lst, n):\r\n",
    "    \"\"\"Yield successive n-sized chunks from lst.\"\"\"\r\n",
    "    for i in range(0, len(lst), n):\r\n",
    "        yield lst[i:i + n]\r\n",
    "\r\n",
    "track_chunks = list(chunks(track_data, 100))\r\n",
    "audio_features = []\r\n",
    "for c in track_chunks:\r\n",
    "    c = [track for track in c if track[0] is not None]\r\n",
    "    c_ids = [track[0] for track in c]\r\n",
    "    c_names = [track[1] for track in c]\r\n",
    "    c_artists = [track[2] for track in c]\r\n",
    "    c_genres = [track[3] for track in c]\r\n",
    "    c_audio_features = sp.audio_features(tracks=c_ids)\r\n",
    "    for i, _ in enumerate(c_audio_features):\r\n",
    "        if c_audio_features[i] == None:\r\n",
    "            continue\r\n",
    "        c_audio_features[i]['name'] = c_names[i]\r\n",
    "        c_audio_features[i]['artist'] = c_artists[i]\r\n",
    "        c_audio_features[i]['genre'] = c_genres[i]\r\n",
    "    audio_features += c_audio_features\r\n",
    "print('Audio Features:', len(audio_features))"
   ],
   "outputs": [],
   "metadata": {}
  },
  {
   "cell_type": "code",
   "execution_count": null,
   "source": [
    "audio_features = [f for f in audio_features if f is not None]\r\n",
    "print('Audio Features:', len(audio_features))"
   ],
   "outputs": [],
   "metadata": {}
  },
  {
   "cell_type": "markdown",
   "source": [
    "## Save to CSV"
   ],
   "metadata": {}
  },
  {
   "cell_type": "code",
   "execution_count": null,
   "source": [
    "track_df = pd.DataFrame(audio_features)\r\n",
    "track_df.to_csv('../data/dreampop.csv')\r\n",
    "track_df"
   ],
   "outputs": [],
   "metadata": {}
  },
  {
   "cell_type": "markdown",
   "source": [
    "# DB Upload"
   ],
   "metadata": {}
  },
  {
   "cell_type": "code",
   "execution_count": null,
   "source": [
    "conn = create_engine('postgresql://{0}:{1}@{2}:{3}/{4}'.format(os.getenv('DB_USER'),\r\n",
    "                                                               os.getenv('DB_PASS'), \r\n",
    "                                                               os.getenv('DB_IP'), \r\n",
    "                                                               os.getenv('DB_PORT'), \r\n",
    "                                                               os.getenv('DB_NAME')))\r\n",
    "                                                               \r\n",
    "track_df.to_sql('dreampop', con=conn, if_exists='replace')"
   ],
   "outputs": [],
   "metadata": {}
  }
 ],
 "metadata": {
  "orig_nbformat": 4,
  "language_info": {
   "name": "python",
   "version": "3.8.8",
   "mimetype": "text/x-python",
   "codemirror_mode": {
    "name": "ipython",
    "version": 3
   },
   "pygments_lexer": "ipython3",
   "nbconvert_exporter": "python",
   "file_extension": ".py"
  },
  "kernelspec": {
   "name": "python3",
   "display_name": "Python 3.8.8 64-bit"
  },
  "interpreter": {
   "hash": "f23fb79c76523998fcc4390d64369b584e5670d334652a28e242fcb0bf90dd18"
  }
 },
 "nbformat": 4,
 "nbformat_minor": 2
}