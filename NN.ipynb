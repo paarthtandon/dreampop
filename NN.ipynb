{
 "cells": [
  {
   "cell_type": "markdown",
   "source": [
    "# Imports/Setup"
   ],
   "metadata": {}
  },
  {
   "cell_type": "code",
   "execution_count": 74,
   "source": [
    "import numpy as np\r\n",
    "import pandas as pd\r\n",
    "import tensorflow as tf\r\n",
    "from tensorflow import keras\r\n",
    "from sklearn.model_selection import train_test_split\r\n",
    "import matplotlib.pyplot as plt\r\n",
    "import seaborn as sns\r\n",
    "from IPython.display import clear_output\r\n",
    "from sqlalchemy import create_engine\r\n",
    "import os\r\n",
    "from dotenv import load_dotenv\r\n",
    "\r\n",
    "%matplotlib inline\r\n",
    "\r\n",
    "load_dotenv()\r\n",
    "\r\n",
    "conn = create_engine('postgresql://{0}:{1}@{2}:{3}/{4}'.format(os.getenv('DB_USER'),\r\n",
    "                                                               os.getenv('DB_PASS'), \r\n",
    "                                                               os.getenv('DB_IP'), \r\n",
    "                                                               os.getenv('DB_PORT'), \r\n",
    "                                                               os.getenv('DB_NAME')))"
   ],
   "outputs": [],
   "metadata": {}
  },
  {
   "cell_type": "markdown",
   "source": [
    "# Download/Setup Data"
   ],
   "metadata": {}
  },
  {
   "cell_type": "code",
   "execution_count": 2,
   "source": [
    "dreampop_data = pd.read_sql(\"SELECT * FROM dreampop;\", conn)\r\n",
    "other_data = pd.read_sql(\"SELECT * FROM other;\", conn)"
   ],
   "outputs": [],
   "metadata": {}
  },
  {
   "cell_type": "code",
   "execution_count": 3,
   "source": [
    "#Combine data, drop non needed cols\r\n",
    "data = dreampop_data.append(other_data, ignore_index=True)\r\n",
    "data = data.drop(['index', 'type', 'uri', 'track_href', 'analysis_url'], axis=1)\r\n",
    "data.head()"
   ],
   "outputs": [
    {
     "output_type": "execute_result",
     "data": {
      "text/plain": [
       "   danceability  energy  key  loudness  mode  speechiness  acousticness  \\\n",
       "0         0.420   0.330    9   -13.925     1       0.0275       0.24500   \n",
       "1         0.512   0.838    0    -6.842     1       0.0310       0.01180   \n",
       "2         0.347   0.550    7    -9.048     1       0.0399       0.00419   \n",
       "3         0.377   0.650    2    -5.902     1       0.0290       0.00174   \n",
       "4         0.638   0.761    4    -7.945     0       0.1690       0.14700   \n",
       "\n",
       "   instrumentalness  liveness  valence    tempo                      id  \\\n",
       "0          0.000679    0.0677   0.1750  157.143  1LzNfuep1bnAUR9skqdHCK   \n",
       "1          0.014200    0.1160   0.1950  117.992  1bwqV8EGVw1RLT3cEzxLpH   \n",
       "2          0.049200    0.0992   0.0669  124.867  5TRSyGcFfevCbJHFUk4OB0   \n",
       "3          0.000058    0.1070   0.3650  180.074  6sVQNUvcVFTXvlk3ec0ngd   \n",
       "4          0.000217    0.3210   0.3780  119.987  4uXWLG0CBQhJlvqPksiHxu   \n",
       "\n",
       "   duration_ms  time_signature                  name         artist     genre  \n",
       "0       295600               3         Fade Into You     Mazzy Star  dreampop  \n",
       "1       203390               4                Closer   Josha Daniel  dreampop  \n",
       "2       199680               4                 Alive   Josha Daniel  dreampop  \n",
       "3       192467               4  Cherry-coloured Funk  Cocteau Twins  dreampop  \n",
       "4       188000               4           High Enough         Lodola  dreampop  "
      ],
      "text/html": [
       "<div>\n",
       "<style scoped>\n",
       "    .dataframe tbody tr th:only-of-type {\n",
       "        vertical-align: middle;\n",
       "    }\n",
       "\n",
       "    .dataframe tbody tr th {\n",
       "        vertical-align: top;\n",
       "    }\n",
       "\n",
       "    .dataframe thead th {\n",
       "        text-align: right;\n",
       "    }\n",
       "</style>\n",
       "<table border=\"1\" class=\"dataframe\">\n",
       "  <thead>\n",
       "    <tr style=\"text-align: right;\">\n",
       "      <th></th>\n",
       "      <th>danceability</th>\n",
       "      <th>energy</th>\n",
       "      <th>key</th>\n",
       "      <th>loudness</th>\n",
       "      <th>mode</th>\n",
       "      <th>speechiness</th>\n",
       "      <th>acousticness</th>\n",
       "      <th>instrumentalness</th>\n",
       "      <th>liveness</th>\n",
       "      <th>valence</th>\n",
       "      <th>tempo</th>\n",
       "      <th>id</th>\n",
       "      <th>duration_ms</th>\n",
       "      <th>time_signature</th>\n",
       "      <th>name</th>\n",
       "      <th>artist</th>\n",
       "      <th>genre</th>\n",
       "    </tr>\n",
       "  </thead>\n",
       "  <tbody>\n",
       "    <tr>\n",
       "      <th>0</th>\n",
       "      <td>0.420</td>\n",
       "      <td>0.330</td>\n",
       "      <td>9</td>\n",
       "      <td>-13.925</td>\n",
       "      <td>1</td>\n",
       "      <td>0.0275</td>\n",
       "      <td>0.24500</td>\n",
       "      <td>0.000679</td>\n",
       "      <td>0.0677</td>\n",
       "      <td>0.1750</td>\n",
       "      <td>157.143</td>\n",
       "      <td>1LzNfuep1bnAUR9skqdHCK</td>\n",
       "      <td>295600</td>\n",
       "      <td>3</td>\n",
       "      <td>Fade Into You</td>\n",
       "      <td>Mazzy Star</td>\n",
       "      <td>dreampop</td>\n",
       "    </tr>\n",
       "    <tr>\n",
       "      <th>1</th>\n",
       "      <td>0.512</td>\n",
       "      <td>0.838</td>\n",
       "      <td>0</td>\n",
       "      <td>-6.842</td>\n",
       "      <td>1</td>\n",
       "      <td>0.0310</td>\n",
       "      <td>0.01180</td>\n",
       "      <td>0.014200</td>\n",
       "      <td>0.1160</td>\n",
       "      <td>0.1950</td>\n",
       "      <td>117.992</td>\n",
       "      <td>1bwqV8EGVw1RLT3cEzxLpH</td>\n",
       "      <td>203390</td>\n",
       "      <td>4</td>\n",
       "      <td>Closer</td>\n",
       "      <td>Josha Daniel</td>\n",
       "      <td>dreampop</td>\n",
       "    </tr>\n",
       "    <tr>\n",
       "      <th>2</th>\n",
       "      <td>0.347</td>\n",
       "      <td>0.550</td>\n",
       "      <td>7</td>\n",
       "      <td>-9.048</td>\n",
       "      <td>1</td>\n",
       "      <td>0.0399</td>\n",
       "      <td>0.00419</td>\n",
       "      <td>0.049200</td>\n",
       "      <td>0.0992</td>\n",
       "      <td>0.0669</td>\n",
       "      <td>124.867</td>\n",
       "      <td>5TRSyGcFfevCbJHFUk4OB0</td>\n",
       "      <td>199680</td>\n",
       "      <td>4</td>\n",
       "      <td>Alive</td>\n",
       "      <td>Josha Daniel</td>\n",
       "      <td>dreampop</td>\n",
       "    </tr>\n",
       "    <tr>\n",
       "      <th>3</th>\n",
       "      <td>0.377</td>\n",
       "      <td>0.650</td>\n",
       "      <td>2</td>\n",
       "      <td>-5.902</td>\n",
       "      <td>1</td>\n",
       "      <td>0.0290</td>\n",
       "      <td>0.00174</td>\n",
       "      <td>0.000058</td>\n",
       "      <td>0.1070</td>\n",
       "      <td>0.3650</td>\n",
       "      <td>180.074</td>\n",
       "      <td>6sVQNUvcVFTXvlk3ec0ngd</td>\n",
       "      <td>192467</td>\n",
       "      <td>4</td>\n",
       "      <td>Cherry-coloured Funk</td>\n",
       "      <td>Cocteau Twins</td>\n",
       "      <td>dreampop</td>\n",
       "    </tr>\n",
       "    <tr>\n",
       "      <th>4</th>\n",
       "      <td>0.638</td>\n",
       "      <td>0.761</td>\n",
       "      <td>4</td>\n",
       "      <td>-7.945</td>\n",
       "      <td>0</td>\n",
       "      <td>0.1690</td>\n",
       "      <td>0.14700</td>\n",
       "      <td>0.000217</td>\n",
       "      <td>0.3210</td>\n",
       "      <td>0.3780</td>\n",
       "      <td>119.987</td>\n",
       "      <td>4uXWLG0CBQhJlvqPksiHxu</td>\n",
       "      <td>188000</td>\n",
       "      <td>4</td>\n",
       "      <td>High Enough</td>\n",
       "      <td>Lodola</td>\n",
       "      <td>dreampop</td>\n",
       "    </tr>\n",
       "  </tbody>\n",
       "</table>\n",
       "</div>"
      ]
     },
     "metadata": {},
     "execution_count": 3
    }
   ],
   "metadata": {}
  },
  {
   "cell_type": "code",
   "execution_count": 4,
   "source": [
    "#Create genre ids\r\n",
    "genres = list(data.groupby('genre').count().index)\r\n",
    "genre_to_id = {}\r\n",
    "id_to_genre = {}\r\n",
    "for i, g in enumerate(genres):\r\n",
    "    genre_to_id[g] = i\r\n",
    "    genre_to_id[i] = g"
   ],
   "outputs": [],
   "metadata": {}
  },
  {
   "cell_type": "code",
   "execution_count": 5,
   "source": [
    "#Map genres\r\n",
    "data['genre_id'] = data['genre'].apply(lambda x: genre_to_id[x])\r\n",
    "data['is_dreampop'] = data['genre'].apply(lambda x: 1 if x == 'dreampop' else 0)\r\n",
    "data = data.sample(frac=1).reset_index(drop=True)\r\n",
    "data.head()"
   ],
   "outputs": [
    {
     "output_type": "execute_result",
     "data": {
      "text/plain": [
       "   danceability  energy  key  loudness  mode  speechiness  acousticness  \\\n",
       "0        0.4090   0.234    7   -17.126     1       0.0389       0.56500   \n",
       "1        0.7740   0.721    6    -6.662     0       0.0773       0.01260   \n",
       "2        0.0959   0.899    1    -7.033     0       0.0588       0.10400   \n",
       "3        0.5160   0.340    2   -10.378     0       0.0556       0.90900   \n",
       "4        0.5740   0.698    7    -6.109     1       0.0277       0.00365   \n",
       "\n",
       "   instrumentalness  liveness  valence    tempo                      id  \\\n",
       "0          0.000144    0.1200    0.151  165.960  18PbKNh8nuvrsq54GpCkoK   \n",
       "1          0.000006    0.0952    0.654  118.048  6vSq5q5DCs1IvwKIq53hj2   \n",
       "2          0.001400    0.6750    0.301   87.307  713SXpm5C6kzeVLUZ7hgO9   \n",
       "3          0.000000    0.2190    0.623  116.703  2MpzQgvW0TTC3D3bfcCQlP   \n",
       "4          0.527000    0.6750    0.123  120.067  6fyfUncrRzeOOEcVYoDWT7   \n",
       "\n",
       "   duration_ms  time_signature                       name             artist  \\\n",
       "0       258640               4           Creep - Acoustic          Radiohead   \n",
       "1       263427               4                     Animal         Miike Snow   \n",
       "2       231973               4                Kill Rhythm    Catherine Wheel   \n",
       "3       197902               4   Pa' Lo Que Te Va a Durar  Roberto Goyeneche   \n",
       "4       266160               4  Your Way (feat. Day Wave)           Jai Wolf   \n",
       "\n",
       "      genre  genre_id  is_dreampop  \n",
       "0       sad       104            0  \n",
       "1   electro        33            0  \n",
       "2  dreampop        28            1  \n",
       "3     tango       120            0  \n",
       "4  dreampop        28            1  "
      ],
      "text/html": [
       "<div>\n",
       "<style scoped>\n",
       "    .dataframe tbody tr th:only-of-type {\n",
       "        vertical-align: middle;\n",
       "    }\n",
       "\n",
       "    .dataframe tbody tr th {\n",
       "        vertical-align: top;\n",
       "    }\n",
       "\n",
       "    .dataframe thead th {\n",
       "        text-align: right;\n",
       "    }\n",
       "</style>\n",
       "<table border=\"1\" class=\"dataframe\">\n",
       "  <thead>\n",
       "    <tr style=\"text-align: right;\">\n",
       "      <th></th>\n",
       "      <th>danceability</th>\n",
       "      <th>energy</th>\n",
       "      <th>key</th>\n",
       "      <th>loudness</th>\n",
       "      <th>mode</th>\n",
       "      <th>speechiness</th>\n",
       "      <th>acousticness</th>\n",
       "      <th>instrumentalness</th>\n",
       "      <th>liveness</th>\n",
       "      <th>valence</th>\n",
       "      <th>tempo</th>\n",
       "      <th>id</th>\n",
       "      <th>duration_ms</th>\n",
       "      <th>time_signature</th>\n",
       "      <th>name</th>\n",
       "      <th>artist</th>\n",
       "      <th>genre</th>\n",
       "      <th>genre_id</th>\n",
       "      <th>is_dreampop</th>\n",
       "    </tr>\n",
       "  </thead>\n",
       "  <tbody>\n",
       "    <tr>\n",
       "      <th>0</th>\n",
       "      <td>0.4090</td>\n",
       "      <td>0.234</td>\n",
       "      <td>7</td>\n",
       "      <td>-17.126</td>\n",
       "      <td>1</td>\n",
       "      <td>0.0389</td>\n",
       "      <td>0.56500</td>\n",
       "      <td>0.000144</td>\n",
       "      <td>0.1200</td>\n",
       "      <td>0.151</td>\n",
       "      <td>165.960</td>\n",
       "      <td>18PbKNh8nuvrsq54GpCkoK</td>\n",
       "      <td>258640</td>\n",
       "      <td>4</td>\n",
       "      <td>Creep - Acoustic</td>\n",
       "      <td>Radiohead</td>\n",
       "      <td>sad</td>\n",
       "      <td>104</td>\n",
       "      <td>0</td>\n",
       "    </tr>\n",
       "    <tr>\n",
       "      <th>1</th>\n",
       "      <td>0.7740</td>\n",
       "      <td>0.721</td>\n",
       "      <td>6</td>\n",
       "      <td>-6.662</td>\n",
       "      <td>0</td>\n",
       "      <td>0.0773</td>\n",
       "      <td>0.01260</td>\n",
       "      <td>0.000006</td>\n",
       "      <td>0.0952</td>\n",
       "      <td>0.654</td>\n",
       "      <td>118.048</td>\n",
       "      <td>6vSq5q5DCs1IvwKIq53hj2</td>\n",
       "      <td>263427</td>\n",
       "      <td>4</td>\n",
       "      <td>Animal</td>\n",
       "      <td>Miike Snow</td>\n",
       "      <td>electro</td>\n",
       "      <td>33</td>\n",
       "      <td>0</td>\n",
       "    </tr>\n",
       "    <tr>\n",
       "      <th>2</th>\n",
       "      <td>0.0959</td>\n",
       "      <td>0.899</td>\n",
       "      <td>1</td>\n",
       "      <td>-7.033</td>\n",
       "      <td>0</td>\n",
       "      <td>0.0588</td>\n",
       "      <td>0.10400</td>\n",
       "      <td>0.001400</td>\n",
       "      <td>0.6750</td>\n",
       "      <td>0.301</td>\n",
       "      <td>87.307</td>\n",
       "      <td>713SXpm5C6kzeVLUZ7hgO9</td>\n",
       "      <td>231973</td>\n",
       "      <td>4</td>\n",
       "      <td>Kill Rhythm</td>\n",
       "      <td>Catherine Wheel</td>\n",
       "      <td>dreampop</td>\n",
       "      <td>28</td>\n",
       "      <td>1</td>\n",
       "    </tr>\n",
       "    <tr>\n",
       "      <th>3</th>\n",
       "      <td>0.5160</td>\n",
       "      <td>0.340</td>\n",
       "      <td>2</td>\n",
       "      <td>-10.378</td>\n",
       "      <td>0</td>\n",
       "      <td>0.0556</td>\n",
       "      <td>0.90900</td>\n",
       "      <td>0.000000</td>\n",
       "      <td>0.2190</td>\n",
       "      <td>0.623</td>\n",
       "      <td>116.703</td>\n",
       "      <td>2MpzQgvW0TTC3D3bfcCQlP</td>\n",
       "      <td>197902</td>\n",
       "      <td>4</td>\n",
       "      <td>Pa' Lo Que Te Va a Durar</td>\n",
       "      <td>Roberto Goyeneche</td>\n",
       "      <td>tango</td>\n",
       "      <td>120</td>\n",
       "      <td>0</td>\n",
       "    </tr>\n",
       "    <tr>\n",
       "      <th>4</th>\n",
       "      <td>0.5740</td>\n",
       "      <td>0.698</td>\n",
       "      <td>7</td>\n",
       "      <td>-6.109</td>\n",
       "      <td>1</td>\n",
       "      <td>0.0277</td>\n",
       "      <td>0.00365</td>\n",
       "      <td>0.527000</td>\n",
       "      <td>0.6750</td>\n",
       "      <td>0.123</td>\n",
       "      <td>120.067</td>\n",
       "      <td>6fyfUncrRzeOOEcVYoDWT7</td>\n",
       "      <td>266160</td>\n",
       "      <td>4</td>\n",
       "      <td>Your Way (feat. Day Wave)</td>\n",
       "      <td>Jai Wolf</td>\n",
       "      <td>dreampop</td>\n",
       "      <td>28</td>\n",
       "      <td>1</td>\n",
       "    </tr>\n",
       "  </tbody>\n",
       "</table>\n",
       "</div>"
      ]
     },
     "metadata": {},
     "execution_count": 5
    }
   ],
   "metadata": {}
  },
  {
   "cell_type": "markdown",
   "source": [
    "# Create train, test, validate sets"
   ],
   "metadata": {}
  },
  {
   "cell_type": "code",
   "execution_count": 6,
   "source": [
    "data_cols = ['danceability', 'energy', 'key', 'loudness', 'mode', 'speechiness', 'acousticness', 'instrumentalness', 'liveness', 'valence', 'tempo', 'duration_ms', 'time_signature']\r\n",
    "X = data[data_cols].to_numpy()\r\n",
    "y = data['is_dreampop'].to_numpy().astype(int)\r\n",
    "X.shape, y.shape"
   ],
   "outputs": [
    {
     "output_type": "execute_result",
     "data": {
      "text/plain": [
       "((20589, 13), (20589,))"
      ]
     },
     "metadata": {},
     "execution_count": 6
    }
   ],
   "metadata": {}
  },
  {
   "cell_type": "code",
   "execution_count": 7,
   "source": [
    "X_train, X_test, y_train, y_test = train_test_split(X, y, test_size=0.2, random_state=1)\r\n",
    "X_train, X_val, y_train, y_val = train_test_split(X_train, y_train, test_size=0.25, random_state=1)\r\n",
    "X_train.shape, X_test.shape, X_val.shape, y_train.shape, y_test.shape, y_val.shape"
   ],
   "outputs": [
    {
     "output_type": "execute_result",
     "data": {
      "text/plain": [
       "((12353, 13), (4118, 13), (4118, 13), (12353,), (4118,), (4118,))"
      ]
     },
     "metadata": {},
     "execution_count": 7
    }
   ],
   "metadata": {}
  },
  {
   "cell_type": "markdown",
   "source": [
    "# Create Model"
   ],
   "metadata": {}
  },
  {
   "cell_type": "code",
   "execution_count": 351,
   "source": [
    "model = keras.models.Sequential()\r\n",
    "model.add(keras.layers.Dense(100, input_dim=13, activation='relu'))\r\n",
    "model.add(keras.layers.Dense(1, activation='sigmoid'))\r\n",
    "\r\n",
    "model.summary()"
   ],
   "outputs": [
    {
     "output_type": "stream",
     "name": "stdout",
     "text": [
      "Model: \"sequential_13\"\n",
      "_________________________________________________________________\n",
      "Layer (type)                 Output Shape              Param #   \n",
      "=================================================================\n",
      "dense_52 (Dense)             (None, 100)               1400      \n",
      "_________________________________________________________________\n",
      "dense_53 (Dense)             (None, 1)                 101       \n",
      "=================================================================\n",
      "Total params: 1,501\n",
      "Trainable params: 1,501\n",
      "Non-trainable params: 0\n",
      "_________________________________________________________________\n"
     ]
    }
   ],
   "metadata": {}
  },
  {
   "cell_type": "code",
   "execution_count": 352,
   "source": [
    "model.compile(\r\n",
    "    optimizer='adam',\r\n",
    "    loss='binary_crossentropy',\r\n",
    "    metrics=['accuracy', keras.metrics.Precision(), keras.metrics.Recall()]\r\n",
    ")"
   ],
   "outputs": [],
   "metadata": {}
  },
  {
   "cell_type": "markdown",
   "source": [
    "# Train/Test Model"
   ],
   "metadata": {}
  },
  {
   "cell_type": "code",
   "execution_count": 353,
   "source": [
    "history = model.fit(\r\n",
    "    X_train,\r\n",
    "    y_train,\r\n",
    "    batch_size=10,\r\n",
    "    epochs=3,\r\n",
    "    validation_data=(X_val, y_val)\r\n",
    ")"
   ],
   "outputs": [
    {
     "output_type": "stream",
     "name": "stdout",
     "text": [
      "Epoch 1/3\n",
      "1236/1236 [==============================] - 1s 793us/step - loss: 351.8903 - accuracy: 0.5220 - precision_1: 0.3845 - recall_1: 0.3742 - val_loss: 509.9526 - val_accuracy: 0.6032 - val_precision_1: 0.0000e+00 - val_recall_1: 0.0000e+00\n",
      "Epoch 2/3\n",
      "1236/1236 [==============================] - 1s 671us/step - loss: 188.3186 - accuracy: 0.5275 - precision_1: 0.3920 - recall_1: 0.3825 - val_loss: 21.8251 - val_accuracy: 0.3968 - val_precision_1: 0.3968 - val_recall_1: 1.0000\n",
      "Epoch 3/3\n",
      "1236/1236 [==============================] - 1s 665us/step - loss: 217.5816 - accuracy: 0.5234 - precision_1: 0.3869 - recall_1: 0.3783 - val_loss: 230.6282 - val_accuracy: 0.6030 - val_precision_1: 0.0000e+00 - val_recall_1: 0.0000e+00\n"
     ]
    }
   ],
   "metadata": {}
  },
  {
   "cell_type": "code",
   "execution_count": 358,
   "source": [
    "# Evaluate the model on the test data\r\n",
    "results = model.evaluate(X_test, y_test, batch_size=128)"
   ],
   "outputs": [
    {
     "output_type": "stream",
     "name": "stdout",
     "text": [
      "33/33 [==============================] - 0s 469us/step - loss: 230.1538 - accuracy: 0.6093 - precision_1: 0.0000e+00 - recall_1: 0.0000e+00\n"
     ]
    }
   ],
   "metadata": {}
  },
  {
   "cell_type": "code",
   "execution_count": 356,
   "source": [
    "sample = data.sample(2500)\r\n",
    "sample_X = sample[data_cols].to_numpy()\r\n",
    "sample_y = sample['is_dreampop'].to_numpy()\r\n",
    "\r\n",
    "predictions = model.predict(sample_X)\r\n",
    "predictions = [p for pl in predictions.tolist() for p in pl]\r\n",
    "predictions = [round(p) for p in predictions]\r\n",
    "ts = list(zip(list(sample_y), predictions))\r\n",
    "ts = [t for t in ts if t[0] == t[1] and t[0] == 1]\r\n",
    "ts"
   ],
   "outputs": [
    {
     "output_type": "execute_result",
     "data": {
      "text/plain": [
       "[]"
      ]
     },
     "metadata": {},
     "execution_count": 356
    }
   ],
   "metadata": {}
  }
 ],
 "metadata": {
  "orig_nbformat": 4,
  "language_info": {
   "name": "python",
   "version": "3.8.8",
   "mimetype": "text/x-python",
   "codemirror_mode": {
    "name": "ipython",
    "version": 3
   },
   "pygments_lexer": "ipython3",
   "nbconvert_exporter": "python",
   "file_extension": ".py"
  },
  "kernelspec": {
   "name": "python3",
   "display_name": "Python 3.8.8 64-bit"
  },
  "interpreter": {
   "hash": "f23fb79c76523998fcc4390d64369b584e5670d334652a28e242fcb0bf90dd18"
  }
 },
 "nbformat": 4,
 "nbformat_minor": 2
}